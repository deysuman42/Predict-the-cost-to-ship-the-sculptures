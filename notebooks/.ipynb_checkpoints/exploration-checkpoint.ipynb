{
 "metadata": {
  "language_info": {
   "codemirror_mode": {
    "name": "ipython",
    "version": 3
   },
   "file_extension": ".py",
   "mimetype": "text/x-python",
   "name": "python",
   "nbconvert_exporter": "python",
   "pygments_lexer": "ipython3",
   "version": "3.7.9-final"
  },
  "orig_nbformat": 2,
  "kernelspec": {
   "name": "python3",
   "display_name": "Python 3",
   "language": "python"
  }
 },
 "nbformat": 4,
 "nbformat_minor": 2,
 "cells": [
  {
   "cell_type": "code",
   "execution_count": 74,
   "metadata": {},
   "outputs": [],
   "source": [
    "import pandas as pd \n",
    "pd.set_option('display.max_rows', None)\n",
    "pd.set_option('display.max_columns', None)"
   ]
  },
  {
   "cell_type": "code",
   "execution_count": 95,
   "metadata": {},
   "outputs": [],
   "source": [
    "train = pd.read_csv(r'C:\\Users\\Suman.Dey\\Desktop\\Learning\\Kaggle\\Shipping Cost\\input\\train.csv')\n",
    "test = pd.read_csv(r'C:\\Users\\Suman.Dey\\Desktop\\Learning\\Kaggle\\Shipping Cost\\input\\test.csv')"
   ]
  },
  {
   "cell_type": "code",
   "execution_count": null,
   "metadata": {},
   "outputs": [],
   "source": [
    "train.head()"
   ]
  },
  {
   "cell_type": "code",
   "execution_count": null,
   "metadata": {},
   "outputs": [],
   "source": [
    "test.head(3)"
   ]
  },
  {
   "cell_type": "code",
   "execution_count": 76,
   "metadata": {},
   "outputs": [],
   "source": [
    "test.loc[:,'TYPE'] = 'test'\n",
    "train.loc[:,'TYPE'] = 'train'"
   ]
  },
  {
   "cell_type": "code",
   "execution_count": 77,
   "metadata": {},
   "outputs": [],
   "source": [
    "comb = pd.concat([train, test])"
   ]
  },
  {
   "cell_type": "code",
   "execution_count": null,
   "metadata": {},
   "outputs": [],
   "source": [
    "comb.shape"
   ]
  },
  {
   "cell_type": "code",
   "execution_count": null,
   "metadata": {},
   "outputs": [],
   "source": [
    "comb.isnull().sum()"
   ]
  },
  {
   "cell_type": "code",
   "execution_count": 78,
   "metadata": {},
   "outputs": [],
   "source": [
    "# Impute missing values in Artist Reputation as 0\n",
    "comb['Artist Reputation'].fillna(0, inplace = True)"
   ]
  },
  {
   "cell_type": "code",
   "execution_count": 79,
   "metadata": {},
   "outputs": [],
   "source": [
    "comb['Height'].fillna(0, inplace = True)\n",
    "comb['Width'].fillna(0, inplace = True)\n",
    "comb['Weight'].fillna(0, inplace = True)"
   ]
  },
  {
   "cell_type": "code",
   "execution_count": 80,
   "metadata": {},
   "outputs": [],
   "source": [
    "comb['Material'].fillna('Unknown', inplace = True)"
   ]
  },
  {
   "cell_type": "code",
   "execution_count": 81,
   "metadata": {},
   "outputs": [
    {
     "output_type": "execute_result",
     "data": {
      "text/plain": [
       "array(['Airways', 'Roadways', nan, 'Waterways'], dtype=object)"
      ]
     },
     "metadata": {},
     "execution_count": 81
    }
   ],
   "source": [
    "comb['Transport'].unique()"
   ]
  },
  {
   "cell_type": "code",
   "execution_count": 82,
   "metadata": {},
   "outputs": [],
   "source": [
    "comb['Transport'].fillna('Unknown', inplace = True)"
   ]
  },
  {
   "cell_type": "code",
   "execution_count": 83,
   "metadata": {},
   "outputs": [
    {
     "output_type": "execute_result",
     "data": {
      "text/plain": [
       "array(['No', 'Yes', nan], dtype=object)"
      ]
     },
     "metadata": {},
     "execution_count": 83
    }
   ],
   "source": [
    "comb['Remote Location'].unique()"
   ]
  },
  {
   "cell_type": "code",
   "execution_count": 84,
   "metadata": {},
   "outputs": [],
   "source": [
    "comb['Remote Location'].fillna('Unknown', inplace = True)"
   ]
  },
  {
   "cell_type": "code",
   "execution_count": 85,
   "metadata": {},
   "outputs": [
    {
     "output_type": "execute_result",
     "data": {
      "text/plain": [
       "            Customer Id     Artist Name  Artist Reputation  Height  Width  \\\n",
       "0  fffe3900350033003300   Billy Jenkins               0.26    17.0    6.0   \n",
       "1  fffe3800330031003900     Jean Bryant               0.28     3.0    3.0   \n",
       "2  fffe3600370035003100    Laura Miller               0.07     8.0    5.0   \n",
       "3      fffe350031003300  Robert Chaires               0.12     9.0    0.0   \n",
       "4  fffe3900320038003400    Rosalyn Krol               0.15    17.0    6.0   \n",
       "\n",
       "   Weight   Material  Price Of Sculpture  Base Shipping Price International  \\\n",
       "0  4128.0      Brass               13.91                16.27           Yes   \n",
       "1    61.0      Brass                6.83                15.00            No   \n",
       "2   237.0       Clay                4.96                21.18            No   \n",
       "3     0.0  Aluminium                5.81                16.31            No   \n",
       "4   324.0  Aluminium                3.18                11.94           Yes   \n",
       "\n",
       "  Express Shipment Installation Included Transport Fragile  \\\n",
       "0              Yes                    No   Airways      No   \n",
       "1               No                    No  Roadways      No   \n",
       "2               No                    No  Roadways     Yes   \n",
       "3               No                    No   Unknown      No   \n",
       "4              Yes                   Yes   Airways      No   \n",
       "\n",
       "  Customer Information Remote Location Scheduled Date Delivery Date  \\\n",
       "0        Working Class              No       06/07/15      06/03/15   \n",
       "1        Working Class              No       03/06/17      03/05/17   \n",
       "2        Working Class             Yes       03/09/15      03/08/15   \n",
       "3              Wealthy             Yes       05/24/15      05/20/15   \n",
       "4        Working Class              No       12/18/16      12/14/16   \n",
       "\n",
       "           Customer Location    Cost   TYPE  \n",
       "0     New Michelle, OH 50777 -283.29  train  \n",
       "1  New Michaelport, WY 12072 -159.96  train  \n",
       "2      Bowmanshire, WA 19241 -154.29  train  \n",
       "3       East Robyn, KY 86375 -161.16  train  \n",
       "4        Aprilside, PA 52793 -159.23  train  "
      ],
      "text/html": "<div>\n<style scoped>\n    .dataframe tbody tr th:only-of-type {\n        vertical-align: middle;\n    }\n\n    .dataframe tbody tr th {\n        vertical-align: top;\n    }\n\n    .dataframe thead th {\n        text-align: right;\n    }\n</style>\n<table border=\"1\" class=\"dataframe\">\n  <thead>\n    <tr style=\"text-align: right;\">\n      <th></th>\n      <th>Customer Id</th>\n      <th>Artist Name</th>\n      <th>Artist Reputation</th>\n      <th>Height</th>\n      <th>Width</th>\n      <th>Weight</th>\n      <th>Material</th>\n      <th>Price Of Sculpture</th>\n      <th>Base Shipping Price</th>\n      <th>International</th>\n      <th>Express Shipment</th>\n      <th>Installation Included</th>\n      <th>Transport</th>\n      <th>Fragile</th>\n      <th>Customer Information</th>\n      <th>Remote Location</th>\n      <th>Scheduled Date</th>\n      <th>Delivery Date</th>\n      <th>Customer Location</th>\n      <th>Cost</th>\n      <th>TYPE</th>\n    </tr>\n  </thead>\n  <tbody>\n    <tr>\n      <th>0</th>\n      <td>fffe3900350033003300</td>\n      <td>Billy Jenkins</td>\n      <td>0.26</td>\n      <td>17.0</td>\n      <td>6.0</td>\n      <td>4128.0</td>\n      <td>Brass</td>\n      <td>13.91</td>\n      <td>16.27</td>\n      <td>Yes</td>\n      <td>Yes</td>\n      <td>No</td>\n      <td>Airways</td>\n      <td>No</td>\n      <td>Working Class</td>\n      <td>No</td>\n      <td>06/07/15</td>\n      <td>06/03/15</td>\n      <td>New Michelle, OH 50777</td>\n      <td>-283.29</td>\n      <td>train</td>\n    </tr>\n    <tr>\n      <th>1</th>\n      <td>fffe3800330031003900</td>\n      <td>Jean Bryant</td>\n      <td>0.28</td>\n      <td>3.0</td>\n      <td>3.0</td>\n      <td>61.0</td>\n      <td>Brass</td>\n      <td>6.83</td>\n      <td>15.00</td>\n      <td>No</td>\n      <td>No</td>\n      <td>No</td>\n      <td>Roadways</td>\n      <td>No</td>\n      <td>Working Class</td>\n      <td>No</td>\n      <td>03/06/17</td>\n      <td>03/05/17</td>\n      <td>New Michaelport, WY 12072</td>\n      <td>-159.96</td>\n      <td>train</td>\n    </tr>\n    <tr>\n      <th>2</th>\n      <td>fffe3600370035003100</td>\n      <td>Laura Miller</td>\n      <td>0.07</td>\n      <td>8.0</td>\n      <td>5.0</td>\n      <td>237.0</td>\n      <td>Clay</td>\n      <td>4.96</td>\n      <td>21.18</td>\n      <td>No</td>\n      <td>No</td>\n      <td>No</td>\n      <td>Roadways</td>\n      <td>Yes</td>\n      <td>Working Class</td>\n      <td>Yes</td>\n      <td>03/09/15</td>\n      <td>03/08/15</td>\n      <td>Bowmanshire, WA 19241</td>\n      <td>-154.29</td>\n      <td>train</td>\n    </tr>\n    <tr>\n      <th>3</th>\n      <td>fffe350031003300</td>\n      <td>Robert Chaires</td>\n      <td>0.12</td>\n      <td>9.0</td>\n      <td>0.0</td>\n      <td>0.0</td>\n      <td>Aluminium</td>\n      <td>5.81</td>\n      <td>16.31</td>\n      <td>No</td>\n      <td>No</td>\n      <td>No</td>\n      <td>Unknown</td>\n      <td>No</td>\n      <td>Wealthy</td>\n      <td>Yes</td>\n      <td>05/24/15</td>\n      <td>05/20/15</td>\n      <td>East Robyn, KY 86375</td>\n      <td>-161.16</td>\n      <td>train</td>\n    </tr>\n    <tr>\n      <th>4</th>\n      <td>fffe3900320038003400</td>\n      <td>Rosalyn Krol</td>\n      <td>0.15</td>\n      <td>17.0</td>\n      <td>6.0</td>\n      <td>324.0</td>\n      <td>Aluminium</td>\n      <td>3.18</td>\n      <td>11.94</td>\n      <td>Yes</td>\n      <td>Yes</td>\n      <td>Yes</td>\n      <td>Airways</td>\n      <td>No</td>\n      <td>Working Class</td>\n      <td>No</td>\n      <td>12/18/16</td>\n      <td>12/14/16</td>\n      <td>Aprilside, PA 52793</td>\n      <td>-159.23</td>\n      <td>train</td>\n    </tr>\n  </tbody>\n</table>\n</div>"
     },
     "metadata": {},
     "execution_count": 85
    }
   ],
   "source": [
    "comb.head()"
   ]
  },
  {
   "cell_type": "code",
   "execution_count": 86,
   "metadata": {},
   "outputs": [],
   "source": [
    "from datetime import datetime, timedelta "
   ]
  },
  {
   "cell_type": "code",
   "execution_count": 87,
   "metadata": {},
   "outputs": [],
   "source": [
    "comb['Scheduled Date'] = pd.to_datetime(comb['Scheduled Date'])\n",
    "comb['Delivery Date'] = pd.to_datetime(comb['Delivery Date'])"
   ]
  },
  {
   "cell_type": "code",
   "execution_count": null,
   "metadata": {},
   "outputs": [],
   "source": [
    "comb.head()"
   ]
  },
  {
   "cell_type": "code",
   "execution_count": 88,
   "metadata": {},
   "outputs": [],
   "source": [
    "comb['Day Diff'] = comb['Scheduled Date'] - comb['Delivery Date']\n",
    "comb['Day Diff'] = comb['Day Diff'].astype(str)\n",
    "comb[['Day', 'Unit']] = comb['Day Diff'].str.split(' ', 1, expand=True)"
   ]
  },
  {
   "cell_type": "code",
   "execution_count": 89,
   "metadata": {},
   "outputs": [],
   "source": [
    "comb.drop(['Customer Id', 'Artist Name','Day Diff', 'Unit'], axis = 1, inplace = True)\n",
    "comb['Cost']= abs(comb['Cost'])\n"
   ]
  },
  {
   "cell_type": "code",
   "execution_count": 90,
   "metadata": {},
   "outputs": [],
   "source": [
    "comb['Day'] = comb['Day'].astype('int')"
   ]
  },
  {
   "cell_type": "code",
   "execution_count": 92,
   "metadata": {},
   "outputs": [],
   "source": [
    "dummies = pd.get_dummies(comb['Material']).rename(columns=lambda x: 'Material_' + str(x))\n",
    "comb = pd.concat([comb, dummies], axis=1)\n",
    "comb = comb.drop(['Material'], inplace=True, axis=1)\n"
   ]
  },
  {
   "cell_type": "code",
   "execution_count": 93,
   "metadata": {},
   "outputs": [
    {
     "output_type": "error",
     "ename": "AttributeError",
     "evalue": "'NoneType' object has no attribute 'head'",
     "traceback": [
      "\u001b[1;31m---------------------------------------------------------------------------\u001b[0m",
      "\u001b[1;31mAttributeError\u001b[0m                            Traceback (most recent call last)",
      "\u001b[1;32m<ipython-input-93-ab37613ea6fc>\u001b[0m in \u001b[0;36m<module>\u001b[1;34m\u001b[0m\n\u001b[1;32m----> 1\u001b[1;33m \u001b[0mcomb\u001b[0m\u001b[1;33m.\u001b[0m\u001b[0mhead\u001b[0m\u001b[1;33m(\u001b[0m\u001b[1;33m)\u001b[0m\u001b[1;33m\u001b[0m\u001b[1;33m\u001b[0m\u001b[0m\n\u001b[0m",
      "\u001b[1;31mAttributeError\u001b[0m: 'NoneType' object has no attribute 'head'"
     ]
    }
   ],
   "source": [
    "comb.head()"
   ]
  },
  {
   "cell_type": "code",
   "execution_count": 73,
   "metadata": {},
   "outputs": [
    {
     "output_type": "execute_result",
     "data": {
      "text/plain": [
       "7"
      ]
     },
     "metadata": {},
     "execution_count": 73
    }
   ],
   "source": [
    "train.Material.nunique()"
   ]
  },
  {
   "cell_type": "code",
   "execution_count": null,
   "metadata": {},
   "outputs": [],
   "source": []
  }
 ]
}