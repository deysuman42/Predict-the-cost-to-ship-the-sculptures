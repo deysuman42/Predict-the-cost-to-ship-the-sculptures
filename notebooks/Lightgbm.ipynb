{
 "cells": [
  {
   "cell_type": "code",
   "execution_count": 76,
   "metadata": {
    "collapsed": true,
    "pycharm": {
     "is_executing": false
    }
   },
   "outputs": [],
   "source": [
    "from sklearn.model_selection import train_test_split\n",
    "from sklearn.metrics import mean_squared_error\n",
    "from sklearn.model_selection import KFold, StratifiedKFold\n",
    "from sklearn.preprocessing import LabelEncoder\n",
    "import lightgbm as lgb\n",
    "import pandas as pd\n",
    "import numpy as np\n",
    "import xgboost as xgb\n",
    "import sklearn.model_selection as skms\n",
    "import warnings\n",
    "warnings.filterwarnings('ignore')\n",
    "import sklearn.linear_model as sklm\n",
    "import sklearn.metrics as skm\n",
    "import sklearn.base as skb"
   ]
  },
  {
   "cell_type": "code",
   "execution_count": 77,
   "outputs": [],
   "source": [
    "train_data = pd.read_csv(r'D:\\Pycharm\\project\\Predict-the-cost-to-ship-the-sculptures\\input\\train_processed.csv')\n",
    "test_data = pd.read_csv(r'D:\\Pycharm\\project\\Predict-the-cost-to-ship-the-sculptures\\input\\test_processed.csv')\n",
    "test_old=pd.read_csv(r'D:\\Pycharm\\project\\Predict-the-cost-to-ship-the-sculptures\\input\\test.csv')"
   ],
   "metadata": {
    "collapsed": false,
    "pycharm": {
     "name": "#%%\n",
     "is_executing": false
    }
   }
  },
  {
   "cell_type": "code",
   "execution_count": 78,
   "outputs": [
    {
     "data": {
      "text/plain": "   Artist Reputation  Height  Width  Weight  Price Of Sculpture  \\\n0               0.26      17      6    4128               13.91   \n1               0.28       3      3      61                6.83   \n2               0.07       8      5     237                4.96   \n3               0.12       9      0       0                5.81   \n4               0.15      17      6     324                3.18   \n\n   Base Shipping Price  Day  Material_Brass  Material_Bronze  Material_Clay  \\\n0                16.27    4               1                0              0   \n1                15.00    1               1                0              0   \n2                21.18    1               0                0              1   \n3                16.31    4               0                0              0   \n4                11.94    4               0                0              0   \n\n   ...  Express Shipment_Yes  Installation Included_Yes  Transport_Roadways  \\\n0  ...                     1                          0                   0   \n1  ...                     0                          0                   1   \n2  ...                     0                          0                   1   \n3  ...                     0                          0                   0   \n4  ...                     1                          1                   0   \n\n   Transport_Unknown  Transport_Waterways  Fragile_Yes  \\\n0                  0                    0            0   \n1                  0                    0            0   \n2                  0                    0            1   \n3                  1                    0            0   \n4                  0                    0            0   \n\n   Customer Information_Working Class  Remote Location_Unknown  \\\n0                                   1                        0   \n1                                   1                        0   \n2                                   1                        0   \n3                                   0                        0   \n4                                   1                        0   \n\n   Remote Location_Yes    Cost  \n0                    0  283.29  \n1                    0  159.96  \n2                    1  154.29  \n3                    1  161.16  \n4                    0  159.23  \n\n[5 rows x 25 columns]",
      "text/html": "<div>\n<style scoped>\n    .dataframe tbody tr th:only-of-type {\n        vertical-align: middle;\n    }\n\n    .dataframe tbody tr th {\n        vertical-align: top;\n    }\n\n    .dataframe thead th {\n        text-align: right;\n    }\n</style>\n<table border=\"1\" class=\"dataframe\">\n  <thead>\n    <tr style=\"text-align: right;\">\n      <th></th>\n      <th>Artist Reputation</th>\n      <th>Height</th>\n      <th>Width</th>\n      <th>Weight</th>\n      <th>Price Of Sculpture</th>\n      <th>Base Shipping Price</th>\n      <th>Day</th>\n      <th>Material_Brass</th>\n      <th>Material_Bronze</th>\n      <th>Material_Clay</th>\n      <th>...</th>\n      <th>Express Shipment_Yes</th>\n      <th>Installation Included_Yes</th>\n      <th>Transport_Roadways</th>\n      <th>Transport_Unknown</th>\n      <th>Transport_Waterways</th>\n      <th>Fragile_Yes</th>\n      <th>Customer Information_Working Class</th>\n      <th>Remote Location_Unknown</th>\n      <th>Remote Location_Yes</th>\n      <th>Cost</th>\n    </tr>\n  </thead>\n  <tbody>\n    <tr>\n      <th>0</th>\n      <td>0.26</td>\n      <td>17</td>\n      <td>6</td>\n      <td>4128</td>\n      <td>13.91</td>\n      <td>16.27</td>\n      <td>4</td>\n      <td>1</td>\n      <td>0</td>\n      <td>0</td>\n      <td>...</td>\n      <td>1</td>\n      <td>0</td>\n      <td>0</td>\n      <td>0</td>\n      <td>0</td>\n      <td>0</td>\n      <td>1</td>\n      <td>0</td>\n      <td>0</td>\n      <td>283.29</td>\n    </tr>\n    <tr>\n      <th>1</th>\n      <td>0.28</td>\n      <td>3</td>\n      <td>3</td>\n      <td>61</td>\n      <td>6.83</td>\n      <td>15.00</td>\n      <td>1</td>\n      <td>1</td>\n      <td>0</td>\n      <td>0</td>\n      <td>...</td>\n      <td>0</td>\n      <td>0</td>\n      <td>1</td>\n      <td>0</td>\n      <td>0</td>\n      <td>0</td>\n      <td>1</td>\n      <td>0</td>\n      <td>0</td>\n      <td>159.96</td>\n    </tr>\n    <tr>\n      <th>2</th>\n      <td>0.07</td>\n      <td>8</td>\n      <td>5</td>\n      <td>237</td>\n      <td>4.96</td>\n      <td>21.18</td>\n      <td>1</td>\n      <td>0</td>\n      <td>0</td>\n      <td>1</td>\n      <td>...</td>\n      <td>0</td>\n      <td>0</td>\n      <td>1</td>\n      <td>0</td>\n      <td>0</td>\n      <td>1</td>\n      <td>1</td>\n      <td>0</td>\n      <td>1</td>\n      <td>154.29</td>\n    </tr>\n    <tr>\n      <th>3</th>\n      <td>0.12</td>\n      <td>9</td>\n      <td>0</td>\n      <td>0</td>\n      <td>5.81</td>\n      <td>16.31</td>\n      <td>4</td>\n      <td>0</td>\n      <td>0</td>\n      <td>0</td>\n      <td>...</td>\n      <td>0</td>\n      <td>0</td>\n      <td>0</td>\n      <td>1</td>\n      <td>0</td>\n      <td>0</td>\n      <td>0</td>\n      <td>0</td>\n      <td>1</td>\n      <td>161.16</td>\n    </tr>\n    <tr>\n      <th>4</th>\n      <td>0.15</td>\n      <td>17</td>\n      <td>6</td>\n      <td>324</td>\n      <td>3.18</td>\n      <td>11.94</td>\n      <td>4</td>\n      <td>0</td>\n      <td>0</td>\n      <td>0</td>\n      <td>...</td>\n      <td>1</td>\n      <td>1</td>\n      <td>0</td>\n      <td>0</td>\n      <td>0</td>\n      <td>0</td>\n      <td>1</td>\n      <td>0</td>\n      <td>0</td>\n      <td>159.23</td>\n    </tr>\n  </tbody>\n</table>\n<p>5 rows × 25 columns</p>\n</div>"
     },
     "metadata": {},
     "output_type": "execute_result",
     "execution_count": 78
    }
   ],
   "source": [
    "train_data.head()"
   ],
   "metadata": {
    "collapsed": false,
    "pycharm": {
     "name": "#%%\n",
     "is_executing": false
    }
   }
  },
  {
   "cell_type": "code",
   "execution_count": 79,
   "outputs": [
    {
     "data": {
      "text/plain": "4.466712392840524"
     },
     "metadata": {},
     "output_type": "execute_result",
     "execution_count": 79
    }
   ],
   "source": [
    "def log1p(vec):\n",
    "    return np.log1p(abs(vec))\n",
    "\n",
    "\n",
    "# apply log on target feature with abs as it has many negative values\n",
    "train_data['Cost'] = log1p(train_data['Cost'])\n",
    "train_data['Cost'].min()"
   ],
   "metadata": {
    "collapsed": false,
    "pycharm": {
     "name": "#%%\n",
     "is_executing": false
    }
   }
  },
  {
   "cell_type": "code",
   "execution_count": 80,
   "outputs": [
    {
     "name": "stdout",
     "text": [
      "Train set has 5200 records out of 6500 which is 80%\n",
      "Test set has 1300 records out of 6500 which is 20%\n"
     ],
     "output_type": "stream"
    }
   ],
   "source": [
    "seed =12\n",
    "\n",
    "# shuffle samples\n",
    "df_shuffle = train_data.sample(frac=1, random_state=seed).reset_index(drop=True)\n",
    "\n",
    "df_y = df_shuffle.pop('Cost')\n",
    "df_X = df_shuffle\n",
    "\n",
    "# split into train dev and test\n",
    "X_train, X_test, y_train, y_test = skms.train_test_split(df_X, df_y, train_size=0.8, random_state=seed)\n",
    "print(f\"Train set has {X_train.shape[0]} records out of {len(df_shuffle)} which is {round(X_train.shape[0]/len(df_shuffle)*100)}%\")\n",
    "print(f\"Test set has {X_test.shape[0]} records out of {len(df_shuffle)} which is {round(X_test.shape[0]/len(df_shuffle)*100)}%\")\n",
    "\n",
    "\n"
   ],
   "metadata": {
    "collapsed": false,
    "pycharm": {
     "name": "#%%\n",
     "is_executing": false
    }
   }
  },
  {
   "cell_type": "code",
   "execution_count": 81,
   "outputs": [
    {
     "data": {
      "text/plain": "       Artist Reputation       Height        Width       Weight  \\\ncount        5200.000000  5200.000000  5200.000000  5200.000000   \nmean            0.411688     0.280854     0.193765     0.002999   \nstd             0.292476     0.173775     0.129125     0.021129   \nmin             0.000000     0.000000     0.000000     0.000000   \n25%             0.160000     0.150685     0.111111     0.000003   \n50%             0.390000     0.260274     0.177778     0.000019   \n75%             0.650000     0.397260     0.244444     0.000224   \nmax             1.000000     1.000000     1.000000     1.000000   \n\n       Price Of Sculpture  Base Shipping Price          Day  Material_Brass  \\\ncount         5200.000000          5200.000000  5200.000000     5200.000000   \nmean             0.003200             0.303077     0.505192        0.130577   \nstd              0.024176             0.297448     0.303935        0.336969   \nmin              0.000000             0.000000     0.000000        0.000000   \n25%              0.000006             0.074461     0.250000        0.000000   \n50%              0.000013             0.148533     0.500000        0.000000   \n75%              0.000218             0.530007     0.750000        0.000000   \nmax              1.000000             1.000000     1.000000        1.000000   \n\n       Material_Bronze  Material_Clay  ...  International_Yes  \\\ncount      5200.000000    5200.000000  ...        5200.000000   \nmean          0.123654       0.123077  ...           0.334038   \nstd           0.329218       0.328557  ...           0.471699   \nmin           0.000000       0.000000  ...           0.000000   \n25%           0.000000       0.000000  ...           0.000000   \n50%           0.000000       0.000000  ...           0.000000   \n75%           0.000000       0.000000  ...           1.000000   \nmax           1.000000       1.000000  ...           1.000000   \n\n       Express Shipment_Yes  Installation Included_Yes  Transport_Roadways  \\\ncount           5200.000000                5200.000000         5200.000000   \nmean               0.331346                   0.404038            0.318077   \nstd                0.470742                   0.490752            0.465774   \nmin                0.000000                   0.000000            0.000000   \n25%                0.000000                   0.000000            0.000000   \n50%                0.000000                   0.000000            0.000000   \n75%                1.000000                   1.000000            1.000000   \nmax                1.000000                   1.000000            1.000000   \n\n       Transport_Unknown  Transport_Waterways  Fragile_Yes  \\\ncount        5200.000000          5200.000000  5200.000000   \nmean            0.208654             0.188654     0.158462   \nstd             0.406386             0.391271     0.365208   \nmin             0.000000             0.000000     0.000000   \n25%             0.000000             0.000000     0.000000   \n50%             0.000000             0.000000     0.000000   \n75%             0.000000             0.000000     0.000000   \nmax             1.000000             1.000000     1.000000   \n\n       Customer Information_Working Class  Remote Location_Unknown  \\\ncount                         5200.000000              5200.000000   \nmean                             0.738077                 0.115385   \nstd                              0.439723                 0.319516   \nmin                              0.000000                 0.000000   \n25%                              0.000000                 0.000000   \n50%                              1.000000                 0.000000   \n75%                              1.000000                 0.000000   \nmax                              1.000000                 1.000000   \n\n       Remote Location_Yes  \ncount          5200.000000  \nmean              0.173654  \nstd               0.378848  \nmin               0.000000  \n25%               0.000000  \n50%               0.000000  \n75%               0.000000  \nmax               1.000000  \n\n[8 rows x 24 columns]",
      "text/html": "<div>\n<style scoped>\n    .dataframe tbody tr th:only-of-type {\n        vertical-align: middle;\n    }\n\n    .dataframe tbody tr th {\n        vertical-align: top;\n    }\n\n    .dataframe thead th {\n        text-align: right;\n    }\n</style>\n<table border=\"1\" class=\"dataframe\">\n  <thead>\n    <tr style=\"text-align: right;\">\n      <th></th>\n      <th>Artist Reputation</th>\n      <th>Height</th>\n      <th>Width</th>\n      <th>Weight</th>\n      <th>Price Of Sculpture</th>\n      <th>Base Shipping Price</th>\n      <th>Day</th>\n      <th>Material_Brass</th>\n      <th>Material_Bronze</th>\n      <th>Material_Clay</th>\n      <th>...</th>\n      <th>International_Yes</th>\n      <th>Express Shipment_Yes</th>\n      <th>Installation Included_Yes</th>\n      <th>Transport_Roadways</th>\n      <th>Transport_Unknown</th>\n      <th>Transport_Waterways</th>\n      <th>Fragile_Yes</th>\n      <th>Customer Information_Working Class</th>\n      <th>Remote Location_Unknown</th>\n      <th>Remote Location_Yes</th>\n    </tr>\n  </thead>\n  <tbody>\n    <tr>\n      <th>count</th>\n      <td>5200.000000</td>\n      <td>5200.000000</td>\n      <td>5200.000000</td>\n      <td>5200.000000</td>\n      <td>5200.000000</td>\n      <td>5200.000000</td>\n      <td>5200.000000</td>\n      <td>5200.000000</td>\n      <td>5200.000000</td>\n      <td>5200.000000</td>\n      <td>...</td>\n      <td>5200.000000</td>\n      <td>5200.000000</td>\n      <td>5200.000000</td>\n      <td>5200.000000</td>\n      <td>5200.000000</td>\n      <td>5200.000000</td>\n      <td>5200.000000</td>\n      <td>5200.000000</td>\n      <td>5200.000000</td>\n      <td>5200.000000</td>\n    </tr>\n    <tr>\n      <th>mean</th>\n      <td>0.411688</td>\n      <td>0.280854</td>\n      <td>0.193765</td>\n      <td>0.002999</td>\n      <td>0.003200</td>\n      <td>0.303077</td>\n      <td>0.505192</td>\n      <td>0.130577</td>\n      <td>0.123654</td>\n      <td>0.123077</td>\n      <td>...</td>\n      <td>0.334038</td>\n      <td>0.331346</td>\n      <td>0.404038</td>\n      <td>0.318077</td>\n      <td>0.208654</td>\n      <td>0.188654</td>\n      <td>0.158462</td>\n      <td>0.738077</td>\n      <td>0.115385</td>\n      <td>0.173654</td>\n    </tr>\n    <tr>\n      <th>std</th>\n      <td>0.292476</td>\n      <td>0.173775</td>\n      <td>0.129125</td>\n      <td>0.021129</td>\n      <td>0.024176</td>\n      <td>0.297448</td>\n      <td>0.303935</td>\n      <td>0.336969</td>\n      <td>0.329218</td>\n      <td>0.328557</td>\n      <td>...</td>\n      <td>0.471699</td>\n      <td>0.470742</td>\n      <td>0.490752</td>\n      <td>0.465774</td>\n      <td>0.406386</td>\n      <td>0.391271</td>\n      <td>0.365208</td>\n      <td>0.439723</td>\n      <td>0.319516</td>\n      <td>0.378848</td>\n    </tr>\n    <tr>\n      <th>min</th>\n      <td>0.000000</td>\n      <td>0.000000</td>\n      <td>0.000000</td>\n      <td>0.000000</td>\n      <td>0.000000</td>\n      <td>0.000000</td>\n      <td>0.000000</td>\n      <td>0.000000</td>\n      <td>0.000000</td>\n      <td>0.000000</td>\n      <td>...</td>\n      <td>0.000000</td>\n      <td>0.000000</td>\n      <td>0.000000</td>\n      <td>0.000000</td>\n      <td>0.000000</td>\n      <td>0.000000</td>\n      <td>0.000000</td>\n      <td>0.000000</td>\n      <td>0.000000</td>\n      <td>0.000000</td>\n    </tr>\n    <tr>\n      <th>25%</th>\n      <td>0.160000</td>\n      <td>0.150685</td>\n      <td>0.111111</td>\n      <td>0.000003</td>\n      <td>0.000006</td>\n      <td>0.074461</td>\n      <td>0.250000</td>\n      <td>0.000000</td>\n      <td>0.000000</td>\n      <td>0.000000</td>\n      <td>...</td>\n      <td>0.000000</td>\n      <td>0.000000</td>\n      <td>0.000000</td>\n      <td>0.000000</td>\n      <td>0.000000</td>\n      <td>0.000000</td>\n      <td>0.000000</td>\n      <td>0.000000</td>\n      <td>0.000000</td>\n      <td>0.000000</td>\n    </tr>\n    <tr>\n      <th>50%</th>\n      <td>0.390000</td>\n      <td>0.260274</td>\n      <td>0.177778</td>\n      <td>0.000019</td>\n      <td>0.000013</td>\n      <td>0.148533</td>\n      <td>0.500000</td>\n      <td>0.000000</td>\n      <td>0.000000</td>\n      <td>0.000000</td>\n      <td>...</td>\n      <td>0.000000</td>\n      <td>0.000000</td>\n      <td>0.000000</td>\n      <td>0.000000</td>\n      <td>0.000000</td>\n      <td>0.000000</td>\n      <td>0.000000</td>\n      <td>1.000000</td>\n      <td>0.000000</td>\n      <td>0.000000</td>\n    </tr>\n    <tr>\n      <th>75%</th>\n      <td>0.650000</td>\n      <td>0.397260</td>\n      <td>0.244444</td>\n      <td>0.000224</td>\n      <td>0.000218</td>\n      <td>0.530007</td>\n      <td>0.750000</td>\n      <td>0.000000</td>\n      <td>0.000000</td>\n      <td>0.000000</td>\n      <td>...</td>\n      <td>1.000000</td>\n      <td>1.000000</td>\n      <td>1.000000</td>\n      <td>1.000000</td>\n      <td>0.000000</td>\n      <td>0.000000</td>\n      <td>0.000000</td>\n      <td>1.000000</td>\n      <td>0.000000</td>\n      <td>0.000000</td>\n    </tr>\n    <tr>\n      <th>max</th>\n      <td>1.000000</td>\n      <td>1.000000</td>\n      <td>1.000000</td>\n      <td>1.000000</td>\n      <td>1.000000</td>\n      <td>1.000000</td>\n      <td>1.000000</td>\n      <td>1.000000</td>\n      <td>1.000000</td>\n      <td>1.000000</td>\n      <td>...</td>\n      <td>1.000000</td>\n      <td>1.000000</td>\n      <td>1.000000</td>\n      <td>1.000000</td>\n      <td>1.000000</td>\n      <td>1.000000</td>\n      <td>1.000000</td>\n      <td>1.000000</td>\n      <td>1.000000</td>\n      <td>1.000000</td>\n    </tr>\n  </tbody>\n</table>\n<p>8 rows × 24 columns</p>\n</div>"
     },
     "metadata": {},
     "output_type": "execute_result",
     "execution_count": 81
    }
   ],
   "source": [
    "import sklearn.preprocessing as skp\n",
    "\n",
    "def getRmse(y_train, y_train_pred):\n",
    "    print(skm.mean_squared_error(y_train, y_train_pred))\n",
    "    \n",
    "# scaler = skp.RobustScaler()\n",
    "scaler = skp.MinMaxScaler()\n",
    "# scaler = skp.StandardScaler()\n",
    "\n",
    "# apply scaling to all numerical variables except dummy variables as they are already between 0 and 1\n",
    "X_train = pd.DataFrame(scaler.fit_transform(X_train), columns=X_train.columns)\n",
    "\n",
    "# scale test data with transform()\n",
    "X_test = pd.DataFrame(scaler.transform(X_test), columns=X_train.columns)\n",
    "\n",
    "# view sample data\n",
    "X_train.describe()"
   ],
   "metadata": {
    "collapsed": false,
    "pycharm": {
     "name": "#%%\n",
     "is_executing": false
    }
   }
  },
  {
   "cell_type": "code",
   "execution_count": 82,
   "outputs": [
    {
     "name": "stdout",
     "text": [
      "[0]\tvalidation_0-rmse:4.43335\n",
      "[1]\tvalidation_0-rmse:3.12819\n",
      "[2]\tvalidation_0-rmse:2.21708\n",
      "[3]\tvalidation_0-rmse:1.57841\n",
      "[4]\tvalidation_0-rmse:1.14234\n",
      "[5]\tvalidation_0-rmse:0.84838\n",
      "[6]\tvalidation_0-rmse:0.64596\n",
      "[7]\tvalidation_0-rmse:0.52125\n",
      "[8]\tvalidation_0-rmse:0.44216\n",
      "[9]\tvalidation_0-rmse:0.39090\n",
      "[10]\tvalidation_0-rmse:0.36249\n",
      "[11]\tvalidation_0-rmse:0.34473\n",
      "[12]\tvalidation_0-rmse:0.33532\n",
      "[13]\tvalidation_0-rmse:0.33106\n",
      "[14]\tvalidation_0-rmse:0.32684\n",
      "[15]\tvalidation_0-rmse:0.32303\n",
      "[16]\tvalidation_0-rmse:0.32187\n",
      "[17]\tvalidation_0-rmse:0.31865\n",
      "[18]\tvalidation_0-rmse:0.31524\n",
      "[19]\tvalidation_0-rmse:0.31352\n",
      "[20]\tvalidation_0-rmse:0.31306\n",
      "[21]\tvalidation_0-rmse:0.31272\n",
      "[22]\tvalidation_0-rmse:0.31147\n",
      "[23]\tvalidation_0-rmse:0.30849\n",
      "[24]\tvalidation_0-rmse:0.30880\n",
      "[25]\tvalidation_0-rmse:0.30832\n",
      "[26]\tvalidation_0-rmse:0.30766\n",
      "[27]\tvalidation_0-rmse:0.30541\n",
      "[28]\tvalidation_0-rmse:0.30395\n",
      "[29]\tvalidation_0-rmse:0.30429\n",
      "[30]\tvalidation_0-rmse:0.30367\n",
      "[31]\tvalidation_0-rmse:0.30272\n",
      "[32]\tvalidation_0-rmse:0.30283\n",
      "[33]\tvalidation_0-rmse:0.30275\n",
      "[34]\tvalidation_0-rmse:0.30150\n",
      "[35]\tvalidation_0-rmse:0.30162\n",
      "[36]\tvalidation_0-rmse:0.30022\n",
      "[37]\tvalidation_0-rmse:0.29885\n",
      "[38]\tvalidation_0-rmse:0.29865\n",
      "[39]\tvalidation_0-rmse:0.29873\n",
      "[40]\tvalidation_0-rmse:0.29811\n",
      "[41]\tvalidation_0-rmse:0.29831\n",
      "[42]\tvalidation_0-rmse:0.29791\n",
      "[43]\tvalidation_0-rmse:0.29740\n",
      "[44]\tvalidation_0-rmse:0.29767\n",
      "[45]\tvalidation_0-rmse:0.29724\n",
      "[46]\tvalidation_0-rmse:0.29717\n",
      "[47]\tvalidation_0-rmse:0.29712\n",
      "[48]\tvalidation_0-rmse:0.29673\n",
      "[49]\tvalidation_0-rmse:0.29677\n",
      "[50]\tvalidation_0-rmse:0.29688\n",
      "[51]\tvalidation_0-rmse:0.29635\n",
      "[52]\tvalidation_0-rmse:0.29680\n",
      "[53]\tvalidation_0-rmse:0.29747\n",
      "[54]\tvalidation_0-rmse:0.29715\n",
      "[55]\tvalidation_0-rmse:0.29693\n",
      "[56]\tvalidation_0-rmse:0.29702\n",
      "[57]\tvalidation_0-rmse:0.29691\n"
     ],
     "output_type": "stream"
    },
    {
     "data": {
      "text/plain": "XGBRegressor(base_score=0.5, booster='gbtree', colsample_bylevel=1,\n             colsample_bynode=1, colsample_bytree=1, gamma=0, gpu_id=-1,\n             importance_type='gain', interaction_constraints='',\n             learning_rate=0.300000012, max_delta_step=0, max_depth=6,\n             min_child_weight=1, missing=nan, monotone_constraints='()',\n             n_estimators=100, n_jobs=12, num_parallel_tree=1, random_state=0,\n             reg_alpha=0, reg_lambda=1, scale_pos_weight=1, subsample=1,\n             tree_method='exact', validate_parameters=1, verbosity=None)"
     },
     "metadata": {},
     "output_type": "execute_result",
     "execution_count": 82
    }
   ],
   "source": [
    "model_xgb = xgb.XGBRegressor()\n",
    "\n",
    "model_xgb.fit(X_train, y_train, early_stopping_rounds=7, eval_set=[(X_test, y_test)], verbose=1)"
   ],
   "metadata": {
    "collapsed": false,
    "pycharm": {
     "name": "#%%\n",
     "is_executing": false
    }
   }
  },
  {
   "cell_type": "code",
   "execution_count": 83,
   "outputs": [
    {
     "name": "stdout",
     "text": [
      "0.7086567142943605\n",
      "0.6996688209931315\n"
     ],
     "output_type": "stream"
    }
   ],
   "source": [
    "ridge_model = sklm.RidgeCV(scoring = \"neg_mean_squared_error\", \n",
    "                           alphas = [0.0001, 0.0005, 0.001, 0.005, 0.01, 0.1, 1.0, 10], \n",
    "                           cv=5)\n",
    "ridge_model.fit(X_train, y_train)\n",
    "\n",
    "# predict\n",
    "y_train_pred = ridge_model.predict(X_train)\n",
    "y_test_pred = ridge_model.predict(X_test)\n",
    "getRmse(y_train, y_train_pred)\n",
    "getRmse(y_test, y_test_pred)"
   ],
   "metadata": {
    "collapsed": false,
    "pycharm": {
     "name": "#%%\n",
     "is_executing": false
    }
   }
  },
  {
   "cell_type": "code",
   "execution_count": 84,
   "outputs": [],
   "source": [
    "#Generate Ensembles\n",
    "def rmse_cv(model):\n",
    "    rmse = np.sqrt(-skms.cross_val_score(model, X_train, y_train, \n",
    "                                         scoring=\"neg_mean_squared_error\", cv = 5, n_jobs=-1))\n",
    "    return rmse\n",
    "\n",
    "class MixModel(skb.BaseEstimator, skb.RegressorMixin, skb.TransformerMixin):\n",
    "\n",
    "    def __init__(self, algs):\n",
    "        self.algs = algs\n",
    "\n",
    "    # Define clones of parameters models\n",
    "    def fit(self, X, y):\n",
    "        self.algs_ = [skb.clone(x) for x in self.algs]\n",
    "        \n",
    "        # Train cloned base models\n",
    "        for alg in self.algs_:\n",
    "            alg.fit(X, y)\n",
    "\n",
    "        return self\n",
    "    \n",
    "    # Average predictions of all cloned models\n",
    "    def predict(self, X):\n",
    "        predictions = np.column_stack([\n",
    "            stacked_model.predict(X) for stacked_model in self.algs_\n",
    "        ])\n",
    "        return np.mean(predictions, axis=1) \n",
    "    "
   ],
   "metadata": {
    "collapsed": false,
    "pycharm": {
     "name": "#%%\n",
     "is_executing": false
    }
   }
  },
  {
   "cell_type": "code",
   "execution_count": 85,
   "outputs": [
    {
     "name": "stdout",
     "text": [
      "0.18387361422200488\n",
      "0.23795848047158985\n"
     ],
     "output_type": "stream"
    }
   ],
   "source": [
    "mixed_model = MixModel(algs = [\n",
    "   model_xgb,\n",
    "    ridge_model\n",
    "])\n",
    "# score = rmse_cv(mixed_model)\n",
    "# print(\"\\nAveraged base algs score: {:.4f} ({:.4f})\".format(score.mean(), score.std()))\n",
    "\n",
    "mixed_model.fit(X_train, y_train)\n",
    "\n",
    "# predict\n",
    "y_train_pred = mixed_model.predict(X_train)\n",
    "y_test_pred = mixed_model.predict(X_test)\n",
    "getRmse(y_train, y_train_pred)\n",
    "getRmse(y_test, y_test_pred)"
   ],
   "metadata": {
    "collapsed": false,
    "pycharm": {
     "name": "#%%\n",
     "is_executing": false
    }
   }
  },
  {
   "cell_type": "code",
   "execution_count": 86,
   "outputs": [],
   "source": [
    "def clipExp(vec):\n",
    "    return np.clip(expm1(vec), 0, None)\n",
    "def expm1(x):\n",
    "    return np.expm1(x)\n",
    "\n",
    "def getTestResults(model=None, roundOff=False):\n",
    "    targetFeature='Cost'\n",
    "    df_final = train_data.sample(frac=1, random_state=1).reset_index(drop=True)\n",
    "    test_cols = [x for x in df_final.columns if targetFeature not in x]\n",
    "    df_test=test_data.copy()\n",
    "    df_final_test = df_test\n",
    "    df_y = df_final.pop(targetFeature)\n",
    "    df_X = df_final\n",
    "\n",
    "#     scaler = skp.RobustScaler()\n",
    "    scaler = skp.MinMaxScaler()\n",
    "#     scaler = skp.StandardScaler()\n",
    "\n",
    "    df_X = pd.DataFrame(scaler.fit_transform(df_X), columns=df_X.columns)\n",
    "    X_test = pd.DataFrame(scaler.transform(df_final_test), columns=df_X.columns)\n",
    "    \n",
    "    # for machine learning models, else neural network will work\n",
    "    if model is None:\n",
    "        model = MixModel(algs = [\n",
    "#             ridge_model, \n",
    "#             enet_model, \n",
    "            model_xgb,\n",
    "            ridge_model\n",
    "        ])\n",
    "\n",
    "        model.fit(df_X, df_y)\n",
    "\n",
    "    # predict\n",
    "    y_train_pred = model.predict(df_X)\n",
    "    y_test_pred = model.predict(X_test)\n",
    "    \n",
    "    if roundOff:\n",
    "        y_train_pred = np.round(y_train_pred)\n",
    "        y_test_pred = np.round(y_test_pred)\n",
    "                \n",
    "    if type(y_test_pred[0]) == np.ndarray:\n",
    "        y_test_pred = np.ravel(y_test_pred)\n",
    "\n",
    "    getRmse(df_y, y_train_pred)\n",
    "    return clipExp(y_test_pred)"
   ],
   "metadata": {
    "collapsed": false,
    "pycharm": {
     "name": "#%%\n",
     "is_executing": false
    }
   }
  },
  {
   "cell_type": "code",
   "execution_count": 87,
   "outputs": [
    {
     "name": "stdout",
     "text": [
      "0.18442608392166018\n"
     ],
     "output_type": "stream"
    }
   ],
   "source": [
    "# ML models\n",
    "results = getTestResults(roundOff=False)\n"
   ],
   "metadata": {
    "collapsed": false,
    "pycharm": {
     "name": "#%%\n",
     "is_executing": false
    }
   }
  },
  {
   "cell_type": "code",
   "execution_count": 88,
   "outputs": [],
   "source": [
    "submission = pd.DataFrame({\n",
    "    'Customer Id': test_old['Customer Id'],\n",
    "    'Cost': results,\n",
    "})\n",
    "submission.head()\n",
    "\n",
    "submission.to_csv('Sub1.csv',index=False)"
   ],
   "metadata": {
    "collapsed": false,
    "pycharm": {
     "name": "#%%\n",
     "is_executing": false
    }
   }
  }
 ],
 "metadata": {
  "kernelspec": {
   "display_name": "Python 3",
   "language": "python",
   "name": "python3"
  },
  "language_info": {
   "codemirror_mode": {
    "name": "ipython",
    "version": 2
   },
   "file_extension": ".py",
   "mimetype": "text/x-python",
   "name": "python",
   "nbconvert_exporter": "python",
   "pygments_lexer": "ipython2",
   "version": "2.7.6"
  },
  "pycharm": {
   "stem_cell": {
    "cell_type": "raw",
    "source": [],
    "metadata": {
     "collapsed": false
    }
   }
  }
 },
 "nbformat": 4,
 "nbformat_minor": 0
}